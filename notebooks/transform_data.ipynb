{
 "cells": [
  {
   "cell_type": "code",
   "execution_count": 18,
   "metadata": {},
   "outputs": [],
   "source": [
    "# # load data\n",
    "# import pandas as pd\n",
    "# import numpy as np\n",
    "\n",
    "# # load data\n",
    "# data = pd.read_csv('./../data/raw/spotify_dataset.csv',\n",
    "#                    on_bad_lines='skip')\n",
    "\n",
    "# data.head()"
   ]
  },
  {
   "cell_type": "code",
   "execution_count": 19,
   "metadata": {},
   "outputs": [
    {
     "name": "stderr",
     "output_type": "stream",
     "text": [
      "/home/ivan/Project/AI-Project/Spotify-Recommender-System/spotify_venv/lib64/python3.12/site-packages/pyspark/sql/context.py:113: FutureWarning: Deprecated in 3.0.0. Use SparkSession.builder.getOrCreate() instead.\n",
      "  warnings.warn(\n",
      "                                                                                \r"
     ]
    },
    {
     "name": "stdout",
     "output_type": "stream",
     "text": [
      "+--------------------+--------------------+--------------------+---------------+\n",
      "|             user_id|        \"artistname\"|         \"trackname\"| \"playlistname\"|\n",
      "+--------------------+--------------------+--------------------+---------------+\n",
      "|9cc0cfd4d7d788510...|      Elvis Costello|(The Angels Wanna...| HARD ROCK 2010|\n",
      "|9cc0cfd4d7d788510...|Elvis Costello & ...|(What's So Funny ...| HARD ROCK 2010|\n",
      "|9cc0cfd4d7d788510...|        Tiffany Page|    7 Years Too Late| HARD ROCK 2010|\n",
      "|9cc0cfd4d7d788510...|Elvis Costello & ...|Accidents Will Ha...| HARD ROCK 2010|\n",
      "|9cc0cfd4d7d788510...|      Elvis Costello|              Alison| HARD ROCK 2010|\n",
      "+--------------------+--------------------+--------------------+---------------+\n",
      "only showing top 5 rows\n",
      "\n",
      "root\n",
      " |-- user_id: string (nullable = true)\n",
      " |--  \"artistname\": string (nullable = true)\n",
      " |--  \"trackname\": string (nullable = true)\n",
      " |--  \"playlistname\": string (nullable = true)\n",
      "\n"
     ]
    }
   ],
   "source": [
    "# load data using spark context\n",
    "from pyspark.sql import SparkSession, SQLContext\n",
    "\n",
    "# create spark session\n",
    "spark = SparkSession.builder.appName('spotify').getOrCreate()\n",
    "sc = spark.sparkContext\n",
    "sqlContext = SQLContext(sc)\n",
    "\n",
    "# load data\n",
    "data = sqlContext.read.csv('./../data/raw/spotify_dataset.csv',\n",
    "                           header=True,\n",
    "                           inferSchema=True)\n",
    "\n",
    "# show data\n",
    "data.show(5)\n",
    "# show info\n",
    "data.printSchema()"
   ]
  },
  {
   "cell_type": "code",
   "execution_count": 20,
   "metadata": {},
   "outputs": [
    {
     "data": {
      "text/plain": [
       "['user_id', 'artist_name', 'track_name', 'playlist_name']"
      ]
     },
     "execution_count": 20,
     "metadata": {},
     "output_type": "execute_result"
    }
   ],
   "source": [
    "# rename the first column\n",
    "# data = data.withColumnRenamed('_c0', 'user_id')\n",
    "# rename the second column\n",
    "data = data.withColumnRenamed(' \"artistname\"','artist_name')\n",
    "# rename the third column\n",
    "data = data.withColumnRenamed(' \"trackname\"','track_name')\n",
    "# rename the fourth column\n",
    "data = data.withColumnRenamed(' \"playlistname\"','playlist_name')\n",
    "# show data columns\n",
    "data.columns"
   ]
  },
  {
   "cell_type": "code",
   "execution_count": 21,
   "metadata": {},
   "outputs": [
    {
     "name": "stderr",
     "output_type": "stream",
     "text": [
      "                                                                                \r"
     ]
    },
    {
     "name": "stdout",
     "output_type": "stream",
     "text": [
      "+-----------------+-----+\n",
      "|    playlist_name|count|\n",
      "+-----------------+-----+\n",
      "|Interesting Songs|   11|\n",
      "|       Oh, Winter|   34|\n",
      "|        Stay Gold|   29|\n",
      "|        Jumpstyle|   61|\n",
      "|    Twilight Zone|   18|\n",
      "+-----------------+-----+\n",
      "only showing top 5 rows\n",
      "\n"
     ]
    },
    {
     "name": "stderr",
     "output_type": "stream",
     "text": [
      "[Stage 24:>                                                       (0 + 12) / 12]\r"
     ]
    },
    {
     "name": "stdout",
     "output_type": "stream",
     "text": [
      "There are 161512 playlists\n"
     ]
    },
    {
     "name": "stderr",
     "output_type": "stream",
     "text": [
      "                                                                                \r"
     ]
    }
   ],
   "source": [
    "# # grouping playlist by playlist name\n",
    "playlist = data.groupBy('playlist_name').count()\n",
    "playlist.show(5)\n",
    "\n",
    "# show all columns\n",
    "count = playlist.count()\n",
    "print(f'There are {count} playlists')"
   ]
  }
 ],
 "metadata": {
  "kernelspec": {
   "display_name": "spotify_venv",
   "language": "python",
   "name": "python3"
  },
  "language_info": {
   "codemirror_mode": {
    "name": "ipython",
    "version": 3
   },
   "file_extension": ".py",
   "mimetype": "text/x-python",
   "name": "python",
   "nbconvert_exporter": "python",
   "pygments_lexer": "ipython3",
   "version": "3.12.1"
  }
 },
 "nbformat": 4,
 "nbformat_minor": 2
}
